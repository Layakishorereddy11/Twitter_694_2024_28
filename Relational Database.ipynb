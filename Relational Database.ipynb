{
 "cells": [
  {
   "cell_type": "code",
   "execution_count": 2,
   "id": "899c093f",
   "metadata": {},
   "outputs": [
    {
     "name": "stdout",
     "output_type": "stream",
     "text": [
      "Collecting mysql-connector-python\n",
      "  Obtaining dependency information for mysql-connector-python from https://files.pythonhosted.org/packages/d9/91/007a0d60fee8db4f7385075dc50bf62d2d359b417b374ec06b06ce6c2d64/mysql_connector_python-8.3.0-cp311-cp311-win_amd64.whl.metadata\n",
      "  Downloading mysql_connector_python-8.3.0-cp311-cp311-win_amd64.whl.metadata (2.0 kB)\n",
      "Downloading mysql_connector_python-8.3.0-cp311-cp311-win_amd64.whl (15.4 MB)\n",
      "   ---------------------------------------- 0.0/15.4 MB ? eta -:--:--\n",
      "   ---------------------------------------- 0.0/15.4 MB ? eta -:--:--\n",
      "   ---------------------------------------- 0.1/15.4 MB 656.4 kB/s eta 0:00:24\n",
      "   --- ------------------------------------ 1.2/15.4 MB 9.7 MB/s eta 0:00:02\n",
      "   --------- ------------------------------ 3.7/15.4 MB 21.7 MB/s eta 0:00:01\n",
      "   --------------- ------------------------ 6.1/15.4 MB 27.8 MB/s eta 0:00:01\n",
      "   --------------------- ------------------ 8.4/15.4 MB 31.6 MB/s eta 0:00:01\n",
      "   --------------------------- ------------ 10.6/15.4 MB 46.9 MB/s eta 0:00:01\n",
      "   ---------------------------------- ----- 13.4/15.4 MB 50.4 MB/s eta 0:00:01\n",
      "   ---------------------------------------  15.4/15.4 MB 50.4 MB/s eta 0:00:01\n",
      "   ---------------------------------------  15.4/15.4 MB 50.4 MB/s eta 0:00:01\n",
      "   ---------------------------------------- 15.4/15.4 MB 40.9 MB/s eta 0:00:00\n",
      "Installing collected packages: mysql-connector-python\n",
      "Successfully installed mysql-connector-python-8.3.0\n",
      "Note: you may need to restart the kernel to use updated packages.\n"
     ]
    }
   ],
   "source": [
    "pip install mysql-connector-python"
   ]
  },
  {
   "cell_type": "code",
   "execution_count": 12,
   "id": "0724c6e3",
   "metadata": {},
   "outputs": [
    {
     "ename": "SyntaxError",
     "evalue": "expected 'except' or 'finally' block (3071092339.py, line 11)",
     "output_type": "error",
     "traceback": [
      "\u001b[1;36m  Cell \u001b[1;32mIn[12], line 11\u001b[1;36m\u001b[0m\n\u001b[1;33m    try:\u001b[0m\n\u001b[1;37m        ^\u001b[0m\n\u001b[1;31mSyntaxError\u001b[0m\u001b[1;31m:\u001b[0m expected 'except' or 'finally' block\n"
     ]
    }
   ],
   "source": [
    "import json\n",
    "import mysql.connector\n",
    "\n",
    "# Read JSON file\n",
    "with open(\"C:\\\\Users\\\\chaud\\\\Desktop\\\\Sem_2\\\\AdvanceDatabase\\\\FinalProject\\\\corona-out-2\\\\corona-out-2\",\"r\") as f:\n",
    "    for line in f:\n",
    "        try:\n",
    "            data = json.load(line)\n",
    "\n",
    "# Connect to MySQL\n",
    "try:\n",
    "    conn = mysql.connector.connect(\n",
    "    host=\"localhost\",\n",
    "    user=\"chaudharijayant8\",\n",
    "    password=\"1234567890\",\n",
    "    database=\"corona-2\"\n",
    "    )\n",
    "cursor = conn.cursor()\n",
    "\n",
    "# Create table\n",
    "cursor.execute(\"\"\"\n",
    "    CREATE TABLE IF NOT EXISTS your_table (\n",
    "        id INT AUTO_INCREMENT PRIMARY KEY,\n",
    "        field1 VARCHAR(255),\n",
    "        field2 VARCHAR(255),\n",
    "        ... # Add more fields as needed\n",
    "    )\n",
    "\"\"\")\n",
    "\n",
    "# Insert data into table\n",
    "for item in data:\n",
    "    cursor.execute(\"\"\"\n",
    "        INSERT INTO your_table (field1, field2, ...)\n",
    "        VALUES (%s, %s, ...)\n",
    "    \"\"\", (item['field1'], item['field2'], ...))  # Replace ... with more fields\n",
    "\n",
    "conn.commit()\n",
    "\n",
    "# Close connection\n",
    "cursor.close()\n",
    "conn.close()\n"
   ]
  },
  {
   "cell_type": "code",
   "execution_count": null,
   "id": "bb74c8f2",
   "metadata": {},
   "outputs": [],
   "source": []
  },
  {
   "cell_type": "code",
   "execution_count": null,
   "id": "25dd908e",
   "metadata": {},
   "outputs": [],
   "source": []
  },
  {
   "cell_type": "code",
   "execution_count": null,
   "id": "14b0a7e3",
   "metadata": {},
   "outputs": [],
   "source": []
  }
 ],
 "metadata": {
  "kernelspec": {
   "display_name": "Python 3 (ipykernel)",
   "language": "python",
   "name": "python3"
  },
  "language_info": {
   "codemirror_mode": {
    "name": "ipython",
    "version": 3
   },
   "file_extension": ".py",
   "mimetype": "text/x-python",
   "name": "python",
   "nbconvert_exporter": "python",
   "pygments_lexer": "ipython3",
   "version": "3.11.5"
  }
 },
 "nbformat": 4,
 "nbformat_minor": 5
}
